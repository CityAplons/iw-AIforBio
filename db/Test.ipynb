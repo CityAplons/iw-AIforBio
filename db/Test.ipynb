{
 "cells": [
  {
   "cell_type": "code",
   "execution_count": 86,
   "metadata": {},
   "outputs": [],
   "source": [
    "import sqlite3 as sql\n",
    "import pandas  as pd\n",
    "#table_name = \"dataset\"\n",
    "#read_data() for getting data from dataset\n",
    "#get() for getting sequence,mutation,ddG for which we should make the prediction\n",
    "#output() for sending result to server\n",
    "#file_name = name_of_file.sqlite\n",
    "def read_data(file_name):\n",
    "    conn = sql.connect(file_name)\n",
    "    cursor = conn.cursor()\n",
    "    types = [str,str,int,str,float]\n",
    "    names = [\"sequence\",\"current\",\"position\",\"mutation\",\"ddG\"]\n",
    "    results = {names[i]:[] for i in range(len(names))}\n",
    "    for row in cursor.execute(\"SELECT * FROM dataset\"):\n",
    "        for i in range(len(names)):\n",
    "            results[names[i]].append(types[i](row[i]))\n",
    "    result = pd.DataFrame(results)\n",
    "    conn.close()\n",
    "    return result\n",
    "def get():\n",
    "    text = raw_input()\n",
    "    types = [str,str,int,str,float]\n",
    "    split_text = text.split(\" \")\n",
    "    return [types[i](split_text[i]) for i in range(len(split_text))]\n",
    "#values = [sequence,current,position,mutation,ddG]\n",
    "def output(values):\n",
    "    result = values[0]\n",
    "    for i in range(1,len(values)):\n",
    "        result += \" \"+ str(values[i])\n",
    "    print (result)"
   ]
  }
 ],
 "metadata": {
  "kernelspec": {
   "display_name": "Python 2",
   "language": "python",
   "name": "python2"
  },
  "language_info": {
   "codemirror_mode": {
    "name": "ipython",
    "version": 2
   },
   "file_extension": ".py",
   "mimetype": "text/x-python",
   "name": "python",
   "nbconvert_exporter": "python",
   "pygments_lexer": "ipython2",
   "version": "2.7.16"
  }
 },
 "nbformat": 4,
 "nbformat_minor": 2
}
